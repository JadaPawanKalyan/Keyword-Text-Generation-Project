{
 "cells": [
  {
   "cell_type": "code",
   "execution_count": null,
   "metadata": {},
   "outputs": [],
   "source": [
    "# importing necessary libraries\n",
    "\n",
    "import keras\n",
    "import tensorflow\n",
    "import numpy as np\n",
    "from transformers import TFGPT2LMHeadModel\n",
    "import pandas as pd\n",
    "import numpy as np\n",
    "import tensorflow as tf\n",
    "import ast"
   ]
  },
  {
   "cell_type": "code",
   "execution_count": null,
   "metadata": {},
   "outputs": [],
   "source": [
    "from tensorflow.keras.layers import Input\n",
    "from tensorflow.keras.models import Model"
   ]
  },
  {
   "cell_type": "code",
   "execution_count": null,
   "metadata": {
    "id": "MMRlql27_fyx"
   },
   "outputs": [],
   "source": [
    "# configuring tpu scope\n",
    "\n",
    "tpu = tf.distribute.cluster_resolver.TPUClusterResolver.connect()\n",
    "tpu_strategy = tf.distribute.TPUStrategy(tpu)"
   ]
  },
  {
   "cell_type": "code",
   "execution_count": null,
   "metadata": {
    "colab": {
     "base_uri": "https://localhost:8080/"
    },
    "id": "Jd_gyVVxpv1x",
    "outputId": "40595fb9-4f1c-41e3-e85d-a14d856d8e43"
   },
   "outputs": [
    {
     "name": "stdout",
     "output_type": "stream",
     "text": [
      "Mounted at /content/drive\n"
     ]
    }
   ],
   "source": [
    "from google.colab import drive\n",
    "drive.mount('/content/drive')"
   ]
  },
  {
   "cell_type": "code",
   "execution_count": null,
   "metadata": {
    "id": "k8EoYI6X3BWX"
   },
   "outputs": [],
   "source": [
    "# loading the data\n",
    "\n",
    "df=pd.read_csv('data_keywords.csv')"
   ]
  },
  {
   "cell_type": "code",
   "execution_count": null,
   "metadata": {
    "id": "e-VIabTZ3IPp"
   },
   "outputs": [],
   "source": [
    "!pip install transformers"
   ]
  },
  {
   "cell_type": "code",
   "execution_count": null,
   "metadata": {
    "id": "W1iGFho43q7r"
   },
   "outputs": [],
   "source": [
    "from transformers import GPT2Tokenizer"
   ]
  },
  {
   "cell_type": "code",
   "execution_count": null,
   "metadata": {
    "id": "_7FdWHwO3wSE"
   },
   "outputs": [],
   "source": [
    "# Initailizing the tokenizer\n",
    "\n",
    "tokenizer=GPT2Tokenizer.from_pretrained('gpt2')"
   ]
  },
  {
   "cell_type": "code",
   "execution_count": null,
   "metadata": {
    "colab": {
     "base_uri": "https://localhost:8080/"
    },
    "id": "bffD1VDC4g0F",
    "outputId": "c0f47e62-240d-442a-8149-da9490b42e8d"
   },
   "outputs": [
    {
     "data": {
      "text/plain": [
       "2"
      ]
     },
     "execution_count": 8,
     "metadata": {
      "tags": []
     },
     "output_type": "execute_result"
    }
   ],
   "source": [
    "# Adding Special Tokens to the GPT Model\n",
    "\n",
    "tokenizer.add_special_tokens({\n",
    "    'unk_token':'<unk>',\n",
    "    'pad_token':'<pad>',\n",
    "    'sep_token':'<sep>'\n",
    "})"
   ]
  },
  {
   "cell_type": "code",
   "execution_count": null,
   "metadata": {
    "colab": {
     "base_uri": "https://localhost:8080/"
    },
    "id": "kOKb4Yb3ggxL",
    "outputId": "ee701a0a-7687-4dcd-e629-ddc5118c9274"
   },
   "outputs": [
    {
     "data": {
      "text/plain": [
       "1"
      ]
     },
     "execution_count": 9,
     "metadata": {
      "tags": []
     },
     "output_type": "execute_result"
    }
   ],
   "source": [
    "# Adding a new token to the GPT Model\n",
    "\n",
    "tokenizer.add_tokens(['<seperator>'])"
   ]
  },
  {
   "cell_type": "code",
   "execution_count": null,
   "metadata": {
    "id": "r0pMQzEt6NhC"
   },
   "outputs": [],
   "source": [
    "# reading our keywords and converging them to single string\n",
    "\n",
    "def sep_keywords(x):\n",
    "  x=ast.literal_eval(x)\n",
    "  return ' <sep> '.join(x)"
   ]
  },
  {
   "cell_type": "code",
   "execution_count": null,
   "metadata": {
    "id": "WcY9zq0s7Clt"
   },
   "outputs": [],
   "source": [
    "# Applying the above function\n",
    "\n",
    "df['keywords_with_sep']=df['keywords'].apply(sep_keywords)"
   ]
  },
  {
   "cell_type": "code",
   "execution_count": null,
   "metadata": {
    "id": "NIiXyZKghIbY"
   },
   "outputs": [],
   "source": [
    "# So we use both texts\n",
    "\n",
    "df['required_text']= df['keywords_with_sep']+' <seperator> '+ df['text']"
   ]
  },
  {
   "cell_type": "code",
   "execution_count": null,
   "metadata": {
    "id": "qW8n03buh_0T"
   },
   "outputs": [],
   "source": [
    "# Encoding the training data\n",
    "\n",
    "res=tokenizer(df['required_text'].to_list(),padding=True,truncation=True)"
   ]
  },
  {
   "cell_type": "code",
   "execution_count": null,
   "metadata": {
    "id": "9YB0Bfw7j3IX"
   },
   "outputs": [],
   "source": [
    "# Extract tokens from the encoding\\\n",
    "\n",
    "inputs=[]\n",
    "attentions=[]\n",
    "targets=[]\n",
    "for i in range(38539):\n",
    "  p=res['input_ids'][i]\n",
    "  p1=res['attention_mask'][i]\n",
    "  inputs.append(p[:-1])\n",
    "  attentions.append(p1[:-1])\n",
    "  targets.append(p[1:])"
   ]
  },
  {
   "cell_type": "code",
   "execution_count": null,
   "metadata": {
    "id": "feDezhO4j5r9"
   },
   "outputs": [],
   "source": [
    "del(res)"
   ]
  },
  {
   "cell_type": "code",
   "execution_count": null,
   "metadata": {
    "id": "JjKqAEmqj_WY"
   },
   "outputs": [],
   "source": [
    "# Converting lists to numpy arrays\n",
    "\n",
    "inputs=np.array(inputs)\n",
    "attentions=np.array(attentions)\n",
    "targets=np.array(targets)"
   ]
  },
  {
   "cell_type": "code",
   "execution_count": null,
   "metadata": {
    "colab": {
     "base_uri": "https://localhost:8080/",
     "height": 182,
     "referenced_widgets": [
      "3c1d6d136b99455a814ea6aee8a8735a",
      "9d59e742805b428da0175833d3edc356",
      "9f07487f829447d9b3ae6ad1fceacca5",
      "8d9945f6cb2445c98aec6ad518fcadea",
      "37dbd045e2364e2f9bdfc2f334cceef4",
      "b7ba8809f8b44c558f7b3c7e86e25f59",
      "524772df7c974665b2192d46d0943bbf",
      "5ad634840c124d2ba7496ff38c0c7390",
      "d5b41f964c43426baba3a91f1dbc9734",
      "a6715f182fc2467da9bee5e55def4813",
      "88c1a3d0308c4384a675178bb3434f79",
      "5cf50fd369364971904a411591795efc",
      "23410ac59b6449b5b667329f99ba3b6b",
      "257491ce7a1d4b8b9d5ef7f750794a1a",
      "38df915d1b444e7b9fcb12e24b1a7bf6",
      "1f7fbb4f231d44f5ba1a8ec8f1d96238"
     ]
    },
    "id": "rB2sDZ1-_ceZ",
    "outputId": "7ec69a99-b787-44a1-9142-dbae07299c03"
   },
   "outputs": [
    {
     "data": {
      "application/vnd.jupyter.widget-view+json": {
       "model_id": "3c1d6d136b99455a814ea6aee8a8735a",
       "version_major": 2,
       "version_minor": 0
      },
      "text/plain": [
       "HBox(children=(FloatProgress(value=0.0, description='Downloading', max=665.0, style=ProgressStyle(description_…"
      ]
     },
     "metadata": {
      "tags": []
     },
     "output_type": "display_data"
    },
    {
     "name": "stdout",
     "output_type": "stream",
     "text": [
      "\n"
     ]
    },
    {
     "data": {
      "application/vnd.jupyter.widget-view+json": {
       "model_id": "d5b41f964c43426baba3a91f1dbc9734",
       "version_major": 2,
       "version_minor": 0
      },
      "text/plain": [
       "HBox(children=(FloatProgress(value=0.0, description='Downloading', max=497933648.0, style=ProgressStyle(descri…"
      ]
     },
     "metadata": {
      "tags": []
     },
     "output_type": "display_data"
    },
    {
     "name": "stdout",
     "output_type": "stream",
     "text": [
      "\n"
     ]
    },
    {
     "name": "stderr",
     "output_type": "stream",
     "text": [
      "All model checkpoint layers were used when initializing TFGPT2LMHeadModel.\n",
      "\n",
      "All the layers of TFGPT2LMHeadModel were initialized from the model checkpoint at gpt2.\n",
      "If your task is similar to the task the model of the checkpoint was trained on, you can already use TFGPT2LMHeadModel for predictions without further training.\n"
     ]
    }
   ],
   "source": [
    "# Transfer learning\n",
    "\n",
    "with tpu_strategy.scope():\n",
    "  model=TFGPT2LMHeadModel.from_pretrained('gpt2')"
   ]
  },
  {
   "cell_type": "code",
   "execution_count": null,
   "metadata": {
    "id": "53BzsAhS_v6k"
   },
   "outputs": [],
   "source": [
    "# resizing the token embeddings of GPT-2\n",
    "\n",
    "with tpu_strategy.scope():\n",
    "  model.resize_token_embeddings(len(tokenizer))"
   ]
  },
  {
   "cell_type": "code",
   "execution_count": null,
   "metadata": {
    "id": "Zrds7_zT_yeN"
   },
   "outputs": [],
   "source": [
    "# creating the architecture \n",
    "\n",
    "with tpu_strategy.scope():\n",
    "  inp1=Input((1023,),dtype='int32')\n",
    "  inp2=Input((1023,),dtype='int32')\n",
    "  emb=model(inp1,attention_mask=inp2)[0]\n",
    "  m=Model(inputs=[inp1,inp2],outputs=emb)"
   ]
  },
  {
   "cell_type": "code",
   "execution_count": null,
   "metadata": {
    "id": "EdNNoIvpAVCV"
   },
   "outputs": [],
   "source": [
    "# compiling the model\n",
    "\n",
    "with tpu_strategy.scope():\n",
    "  m.compile(optimizer=keras.optimizers.Adam(learning_rate=5e-5),loss=tensorflow.keras.losses.SparseCategoricalCrossentropy(from_logits=True),metrics=['accuracy'])"
   ]
  },
  {
   "cell_type": "code",
   "execution_count": null,
   "metadata": {
    "colab": {
     "base_uri": "https://localhost:8080/"
    },
    "id": "9wTvp9kRzlaa",
    "outputId": "512a429a-5e09-40d9-da29-7b5d8413a5ca"
   },
   "outputs": [
    {
     "name": "stdout",
     "output_type": "stream",
     "text": [
      "Epoch 1/3\n",
      "2048/2048 [==============================] - 563s 275ms/step - loss: 0.5752 - accuracy: 0.8828 - val_loss: 0.7655 - val_accuracy: 0.8562\n",
      "Epoch 2/3\n",
      "2048/2048 [==============================] - 562s 274ms/step - loss: 0.5683 - accuracy: 0.8836 - val_loss: 0.7650 - val_accuracy: 0.8564\n",
      "Epoch 3/3\n",
      "2048/2048 [==============================] - 562s 275ms/step - loss: 0.5601 - accuracy: 0.8846 - val_loss: 0.7663 - val_accuracy: 0.8563\n"
     ]
    },
    {
     "data": {
      "text/plain": [
       "<tensorflow.python.keras.callbacks.History at 0x7f92e5fa8450>"
      ]
     },
     "execution_count": 58,
     "metadata": {
      "tags": []
     },
     "output_type": "execute_result"
    }
   ],
   "source": [
    "# training the model\n",
    "\n",
    "m.fit([inputs,attentions],targets,epochs=3,batch_size=16,validation_split=0.15) "
   ]
  },
  {
   "cell_type": "code",
   "execution_count": null,
   "metadata": {
    "id": "zxIvyFlayVf7"
   },
   "outputs": [],
   "source": [
    "# saving the weights\n",
    "\n",
    "save_locally = tf.saved_model.SaveOptions(experimental_io_device='/job:localhost')\n",
    "m.save_weights('/content/drive/MyDrive/gpt2 keyword model/gpt2 keyword model', options=save_locally)"
   ]
  },
  {
   "cell_type": "code",
   "execution_count": null,
   "metadata": {
    "colab": {
     "base_uri": "https://localhost:8080/"
    },
    "id": "WgZ38V04E-o4",
    "outputId": "ed6b2746-850f-4a68-8b6f-891d68823d22"
   },
   "outputs": [
    {
     "name": "stderr",
     "output_type": "stream",
     "text": [
      "Setting `pad_token_id` to 50256 (first `eos_token_id`) to generate sequence\n"
     ]
    }
   ],
   "source": [
    "text = '''COVID-19 <sep> SARS-CoV-2 <sep> cardiac magnetic resonance <sep> chest x-ray <sep> computed tomography <sep> \n",
    "lung ultrasound <sep> echocardiography <seperator> The severe acute respiratory syndrome-coronavirus-2 outbreak has \n",
    "rapidly reached pandemic proportions and has become a major threat to global health.'''.lower()\n",
    "\n",
    "input_ids = tokenizer.encode(text, return_tensors='tf')\n",
    "\n",
    "beam_output = model.generate(\n",
    "  input_ids,\n",
    "  max_length = 200,\n",
    "  num_beams=3\n",
    ")"
   ]
  },
  {
   "cell_type": "code",
   "execution_count": null,
   "metadata": {
    "id": "uwI5PcnjpZEw"
   },
   "outputs": [],
   "source": [
    "res=tokenizer.decode(beam_output[0])"
   ]
  },
  {
   "cell_type": "code",
   "execution_count": null,
   "metadata": {
    "id": "7FX4_iwZptpM"
   },
   "outputs": [],
   "source": [
    "p=res.split().index('<seperator>')\n",
    "res=res.split()[p+1:]\n",
    "p=res.index('<pad>')\n",
    "res=res[:p]\n",
    "res=' '.join(res)"
   ]
  },
  {
   "cell_type": "markdown",
   "metadata": {
    "id": "-mD35HIw0lYN"
   },
   "source": [
    "## Generated Text\n"
   ]
  },
  {
   "cell_type": "code",
   "execution_count": null,
   "metadata": {
    "colab": {
     "base_uri": "https://localhost:8080/",
     "height": 86
    },
    "id": "-wkHWU2c0JJC",
    "outputId": "d303cc71-be28-46a3-dcf4-e5b187c4b004"
   },
   "outputs": [
    {
     "data": {
      "application/vnd.google.colaboratory.intrinsic+json": {
       "type": "string"
      },
      "text/plain": [
       "'the severe acute respiratory syndrome-coronavirus-2 outbreak has rapidly reached pandemic proportions and has become a major threat to global health. chest x-ray (cxr) and computed tomography (ct) have been widely used in the diagnosis of covid-19. chest cxr and ct have been widely used in the diagnosis of sars-cov-2 infection, but there is a lack of consensus regarding the clinical utility of cxr and ct in the diagnosis of covid-19. the purpose of this study was to evaluate the clinical utility of chest cxr and ct in the diagnosis of covid-19.'"
      ]
     },
     "execution_count": 53,
     "metadata": {
      "tags": []
     },
     "output_type": "execute_result"
    }
   ],
   "source": [
    "res"
   ]
  },
  {
   "cell_type": "markdown",
   "metadata": {},
   "source": [
    "So we have the generated text by the model, which is very similar to the keywords we inputted the model with. So the model is contextually able to identify the meaning of keywords"
   ]
  },
  {
   "cell_type": "code",
   "execution_count": null,
   "metadata": {},
   "outputs": [],
   "source": []
  }
 ],
 "metadata": {
  "accelerator": "TPU",
  "colab": {
   "collapsed_sections": [],
   "machine_shape": "hm",
   "name": "Keyword Text Generation.ipynb",
   "provenance": []
  },
  "kernelspec": {
   "display_name": "Python 3",
   "language": "python",
   "name": "python3"
  },
  "language_info": {
   "codemirror_mode": {
    "name": "ipython",
    "version": 3
   },
   "file_extension": ".py",
   "mimetype": "text/x-python",
   "name": "python",
   "nbconvert_exporter": "python",
   "pygments_lexer": "ipython3",
   "version": "3.8.5"
  },
  "widgets": {
   "application/vnd.jupyter.widget-state+json": {
    "1f7fbb4f231d44f5ba1a8ec8f1d96238": {
     "model_module": "@jupyter-widgets/base",
     "model_module_version": "1.2.0",
     "model_name": "LayoutModel",
     "state": {
      "_model_module": "@jupyter-widgets/base",
      "_model_module_version": "1.2.0",
      "_model_name": "LayoutModel",
      "_view_count": null,
      "_view_module": "@jupyter-widgets/base",
      "_view_module_version": "1.2.0",
      "_view_name": "LayoutView",
      "align_content": null,
      "align_items": null,
      "align_self": null,
      "border": null,
      "bottom": null,
      "display": null,
      "flex": null,
      "flex_flow": null,
      "grid_area": null,
      "grid_auto_columns": null,
      "grid_auto_flow": null,
      "grid_auto_rows": null,
      "grid_column": null,
      "grid_gap": null,
      "grid_row": null,
      "grid_template_areas": null,
      "grid_template_columns": null,
      "grid_template_rows": null,
      "height": null,
      "justify_content": null,
      "justify_items": null,
      "left": null,
      "margin": null,
      "max_height": null,
      "max_width": null,
      "min_height": null,
      "min_width": null,
      "object_fit": null,
      "object_position": null,
      "order": null,
      "overflow": null,
      "overflow_x": null,
      "overflow_y": null,
      "padding": null,
      "right": null,
      "top": null,
      "visibility": null,
      "width": null
     }
    },
    "23410ac59b6449b5b667329f99ba3b6b": {
     "model_module": "@jupyter-widgets/controls",
     "model_module_version": "1.5.0",
     "model_name": "ProgressStyleModel",
     "state": {
      "_model_module": "@jupyter-widgets/controls",
      "_model_module_version": "1.5.0",
      "_model_name": "ProgressStyleModel",
      "_view_count": null,
      "_view_module": "@jupyter-widgets/base",
      "_view_module_version": "1.2.0",
      "_view_name": "StyleView",
      "bar_color": null,
      "description_width": "initial"
     }
    },
    "257491ce7a1d4b8b9d5ef7f750794a1a": {
     "model_module": "@jupyter-widgets/base",
     "model_module_version": "1.2.0",
     "model_name": "LayoutModel",
     "state": {
      "_model_module": "@jupyter-widgets/base",
      "_model_module_version": "1.2.0",
      "_model_name": "LayoutModel",
      "_view_count": null,
      "_view_module": "@jupyter-widgets/base",
      "_view_module_version": "1.2.0",
      "_view_name": "LayoutView",
      "align_content": null,
      "align_items": null,
      "align_self": null,
      "border": null,
      "bottom": null,
      "display": null,
      "flex": null,
      "flex_flow": null,
      "grid_area": null,
      "grid_auto_columns": null,
      "grid_auto_flow": null,
      "grid_auto_rows": null,
      "grid_column": null,
      "grid_gap": null,
      "grid_row": null,
      "grid_template_areas": null,
      "grid_template_columns": null,
      "grid_template_rows": null,
      "height": null,
      "justify_content": null,
      "justify_items": null,
      "left": null,
      "margin": null,
      "max_height": null,
      "max_width": null,
      "min_height": null,
      "min_width": null,
      "object_fit": null,
      "object_position": null,
      "order": null,
      "overflow": null,
      "overflow_x": null,
      "overflow_y": null,
      "padding": null,
      "right": null,
      "top": null,
      "visibility": null,
      "width": null
     }
    },
    "37dbd045e2364e2f9bdfc2f334cceef4": {
     "model_module": "@jupyter-widgets/controls",
     "model_module_version": "1.5.0",
     "model_name": "ProgressStyleModel",
     "state": {
      "_model_module": "@jupyter-widgets/controls",
      "_model_module_version": "1.5.0",
      "_model_name": "ProgressStyleModel",
      "_view_count": null,
      "_view_module": "@jupyter-widgets/base",
      "_view_module_version": "1.2.0",
      "_view_name": "StyleView",
      "bar_color": null,
      "description_width": "initial"
     }
    },
    "38df915d1b444e7b9fcb12e24b1a7bf6": {
     "model_module": "@jupyter-widgets/controls",
     "model_module_version": "1.5.0",
     "model_name": "DescriptionStyleModel",
     "state": {
      "_model_module": "@jupyter-widgets/controls",
      "_model_module_version": "1.5.0",
      "_model_name": "DescriptionStyleModel",
      "_view_count": null,
      "_view_module": "@jupyter-widgets/base",
      "_view_module_version": "1.2.0",
      "_view_name": "StyleView",
      "description_width": ""
     }
    },
    "3c1d6d136b99455a814ea6aee8a8735a": {
     "model_module": "@jupyter-widgets/controls",
     "model_module_version": "1.5.0",
     "model_name": "HBoxModel",
     "state": {
      "_dom_classes": [],
      "_model_module": "@jupyter-widgets/controls",
      "_model_module_version": "1.5.0",
      "_model_name": "HBoxModel",
      "_view_count": null,
      "_view_module": "@jupyter-widgets/controls",
      "_view_module_version": "1.5.0",
      "_view_name": "HBoxView",
      "box_style": "",
      "children": [
       "IPY_MODEL_9f07487f829447d9b3ae6ad1fceacca5",
       "IPY_MODEL_8d9945f6cb2445c98aec6ad518fcadea"
      ],
      "layout": "IPY_MODEL_9d59e742805b428da0175833d3edc356"
     }
    },
    "524772df7c974665b2192d46d0943bbf": {
     "model_module": "@jupyter-widgets/controls",
     "model_module_version": "1.5.0",
     "model_name": "DescriptionStyleModel",
     "state": {
      "_model_module": "@jupyter-widgets/controls",
      "_model_module_version": "1.5.0",
      "_model_name": "DescriptionStyleModel",
      "_view_count": null,
      "_view_module": "@jupyter-widgets/base",
      "_view_module_version": "1.2.0",
      "_view_name": "StyleView",
      "description_width": ""
     }
    },
    "5ad634840c124d2ba7496ff38c0c7390": {
     "model_module": "@jupyter-widgets/base",
     "model_module_version": "1.2.0",
     "model_name": "LayoutModel",
     "state": {
      "_model_module": "@jupyter-widgets/base",
      "_model_module_version": "1.2.0",
      "_model_name": "LayoutModel",
      "_view_count": null,
      "_view_module": "@jupyter-widgets/base",
      "_view_module_version": "1.2.0",
      "_view_name": "LayoutView",
      "align_content": null,
      "align_items": null,
      "align_self": null,
      "border": null,
      "bottom": null,
      "display": null,
      "flex": null,
      "flex_flow": null,
      "grid_area": null,
      "grid_auto_columns": null,
      "grid_auto_flow": null,
      "grid_auto_rows": null,
      "grid_column": null,
      "grid_gap": null,
      "grid_row": null,
      "grid_template_areas": null,
      "grid_template_columns": null,
      "grid_template_rows": null,
      "height": null,
      "justify_content": null,
      "justify_items": null,
      "left": null,
      "margin": null,
      "max_height": null,
      "max_width": null,
      "min_height": null,
      "min_width": null,
      "object_fit": null,
      "object_position": null,
      "order": null,
      "overflow": null,
      "overflow_x": null,
      "overflow_y": null,
      "padding": null,
      "right": null,
      "top": null,
      "visibility": null,
      "width": null
     }
    },
    "5cf50fd369364971904a411591795efc": {
     "model_module": "@jupyter-widgets/controls",
     "model_module_version": "1.5.0",
     "model_name": "HTMLModel",
     "state": {
      "_dom_classes": [],
      "_model_module": "@jupyter-widgets/controls",
      "_model_module_version": "1.5.0",
      "_model_name": "HTMLModel",
      "_view_count": null,
      "_view_module": "@jupyter-widgets/controls",
      "_view_module_version": "1.5.0",
      "_view_name": "HTMLView",
      "description": "",
      "description_tooltip": null,
      "layout": "IPY_MODEL_1f7fbb4f231d44f5ba1a8ec8f1d96238",
      "placeholder": "​",
      "style": "IPY_MODEL_38df915d1b444e7b9fcb12e24b1a7bf6",
      "value": " 498M/498M [00:10&lt;00:00, 46.8MB/s]"
     }
    },
    "88c1a3d0308c4384a675178bb3434f79": {
     "model_module": "@jupyter-widgets/controls",
     "model_module_version": "1.5.0",
     "model_name": "FloatProgressModel",
     "state": {
      "_dom_classes": [],
      "_model_module": "@jupyter-widgets/controls",
      "_model_module_version": "1.5.0",
      "_model_name": "FloatProgressModel",
      "_view_count": null,
      "_view_module": "@jupyter-widgets/controls",
      "_view_module_version": "1.5.0",
      "_view_name": "ProgressView",
      "bar_style": "success",
      "description": "Downloading: 100%",
      "description_tooltip": null,
      "layout": "IPY_MODEL_257491ce7a1d4b8b9d5ef7f750794a1a",
      "max": 497933648,
      "min": 0,
      "orientation": "horizontal",
      "style": "IPY_MODEL_23410ac59b6449b5b667329f99ba3b6b",
      "value": 497933648
     }
    },
    "8d9945f6cb2445c98aec6ad518fcadea": {
     "model_module": "@jupyter-widgets/controls",
     "model_module_version": "1.5.0",
     "model_name": "HTMLModel",
     "state": {
      "_dom_classes": [],
      "_model_module": "@jupyter-widgets/controls",
      "_model_module_version": "1.5.0",
      "_model_name": "HTMLModel",
      "_view_count": null,
      "_view_module": "@jupyter-widgets/controls",
      "_view_module_version": "1.5.0",
      "_view_name": "HTMLView",
      "description": "",
      "description_tooltip": null,
      "layout": "IPY_MODEL_5ad634840c124d2ba7496ff38c0c7390",
      "placeholder": "​",
      "style": "IPY_MODEL_524772df7c974665b2192d46d0943bbf",
      "value": " 665/665 [00:11&lt;00:00, 59.8B/s]"
     }
    },
    "9d59e742805b428da0175833d3edc356": {
     "model_module": "@jupyter-widgets/base",
     "model_module_version": "1.2.0",
     "model_name": "LayoutModel",
     "state": {
      "_model_module": "@jupyter-widgets/base",
      "_model_module_version": "1.2.0",
      "_model_name": "LayoutModel",
      "_view_count": null,
      "_view_module": "@jupyter-widgets/base",
      "_view_module_version": "1.2.0",
      "_view_name": "LayoutView",
      "align_content": null,
      "align_items": null,
      "align_self": null,
      "border": null,
      "bottom": null,
      "display": null,
      "flex": null,
      "flex_flow": null,
      "grid_area": null,
      "grid_auto_columns": null,
      "grid_auto_flow": null,
      "grid_auto_rows": null,
      "grid_column": null,
      "grid_gap": null,
      "grid_row": null,
      "grid_template_areas": null,
      "grid_template_columns": null,
      "grid_template_rows": null,
      "height": null,
      "justify_content": null,
      "justify_items": null,
      "left": null,
      "margin": null,
      "max_height": null,
      "max_width": null,
      "min_height": null,
      "min_width": null,
      "object_fit": null,
      "object_position": null,
      "order": null,
      "overflow": null,
      "overflow_x": null,
      "overflow_y": null,
      "padding": null,
      "right": null,
      "top": null,
      "visibility": null,
      "width": null
     }
    },
    "9f07487f829447d9b3ae6ad1fceacca5": {
     "model_module": "@jupyter-widgets/controls",
     "model_module_version": "1.5.0",
     "model_name": "FloatProgressModel",
     "state": {
      "_dom_classes": [],
      "_model_module": "@jupyter-widgets/controls",
      "_model_module_version": "1.5.0",
      "_model_name": "FloatProgressModel",
      "_view_count": null,
      "_view_module": "@jupyter-widgets/controls",
      "_view_module_version": "1.5.0",
      "_view_name": "ProgressView",
      "bar_style": "success",
      "description": "Downloading: 100%",
      "description_tooltip": null,
      "layout": "IPY_MODEL_b7ba8809f8b44c558f7b3c7e86e25f59",
      "max": 665,
      "min": 0,
      "orientation": "horizontal",
      "style": "IPY_MODEL_37dbd045e2364e2f9bdfc2f334cceef4",
      "value": 665
     }
    },
    "a6715f182fc2467da9bee5e55def4813": {
     "model_module": "@jupyter-widgets/base",
     "model_module_version": "1.2.0",
     "model_name": "LayoutModel",
     "state": {
      "_model_module": "@jupyter-widgets/base",
      "_model_module_version": "1.2.0",
      "_model_name": "LayoutModel",
      "_view_count": null,
      "_view_module": "@jupyter-widgets/base",
      "_view_module_version": "1.2.0",
      "_view_name": "LayoutView",
      "align_content": null,
      "align_items": null,
      "align_self": null,
      "border": null,
      "bottom": null,
      "display": null,
      "flex": null,
      "flex_flow": null,
      "grid_area": null,
      "grid_auto_columns": null,
      "grid_auto_flow": null,
      "grid_auto_rows": null,
      "grid_column": null,
      "grid_gap": null,
      "grid_row": null,
      "grid_template_areas": null,
      "grid_template_columns": null,
      "grid_template_rows": null,
      "height": null,
      "justify_content": null,
      "justify_items": null,
      "left": null,
      "margin": null,
      "max_height": null,
      "max_width": null,
      "min_height": null,
      "min_width": null,
      "object_fit": null,
      "object_position": null,
      "order": null,
      "overflow": null,
      "overflow_x": null,
      "overflow_y": null,
      "padding": null,
      "right": null,
      "top": null,
      "visibility": null,
      "width": null
     }
    },
    "b7ba8809f8b44c558f7b3c7e86e25f59": {
     "model_module": "@jupyter-widgets/base",
     "model_module_version": "1.2.0",
     "model_name": "LayoutModel",
     "state": {
      "_model_module": "@jupyter-widgets/base",
      "_model_module_version": "1.2.0",
      "_model_name": "LayoutModel",
      "_view_count": null,
      "_view_module": "@jupyter-widgets/base",
      "_view_module_version": "1.2.0",
      "_view_name": "LayoutView",
      "align_content": null,
      "align_items": null,
      "align_self": null,
      "border": null,
      "bottom": null,
      "display": null,
      "flex": null,
      "flex_flow": null,
      "grid_area": null,
      "grid_auto_columns": null,
      "grid_auto_flow": null,
      "grid_auto_rows": null,
      "grid_column": null,
      "grid_gap": null,
      "grid_row": null,
      "grid_template_areas": null,
      "grid_template_columns": null,
      "grid_template_rows": null,
      "height": null,
      "justify_content": null,
      "justify_items": null,
      "left": null,
      "margin": null,
      "max_height": null,
      "max_width": null,
      "min_height": null,
      "min_width": null,
      "object_fit": null,
      "object_position": null,
      "order": null,
      "overflow": null,
      "overflow_x": null,
      "overflow_y": null,
      "padding": null,
      "right": null,
      "top": null,
      "visibility": null,
      "width": null
     }
    },
    "d5b41f964c43426baba3a91f1dbc9734": {
     "model_module": "@jupyter-widgets/controls",
     "model_module_version": "1.5.0",
     "model_name": "HBoxModel",
     "state": {
      "_dom_classes": [],
      "_model_module": "@jupyter-widgets/controls",
      "_model_module_version": "1.5.0",
      "_model_name": "HBoxModel",
      "_view_count": null,
      "_view_module": "@jupyter-widgets/controls",
      "_view_module_version": "1.5.0",
      "_view_name": "HBoxView",
      "box_style": "",
      "children": [
       "IPY_MODEL_88c1a3d0308c4384a675178bb3434f79",
       "IPY_MODEL_5cf50fd369364971904a411591795efc"
      ],
      "layout": "IPY_MODEL_a6715f182fc2467da9bee5e55def4813"
     }
    }
   }
  }
 },
 "nbformat": 4,
 "nbformat_minor": 1
}
